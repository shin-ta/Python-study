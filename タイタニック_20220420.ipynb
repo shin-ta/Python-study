{
  "nbformat": 4,
  "nbformat_minor": 0,
  "metadata": {
    "colab": {
      "name": "タイタニック_20220420.ipynb",
      "provenance": [],
      "authorship_tag": "ABX9TyM7LBfg4lmkbTkV/cOyOHwU",
      "include_colab_link": true
    },
    "kernelspec": {
      "name": "python3",
      "display_name": "Python 3"
    },
    "language_info": {
      "name": "python"
    }
  },
  "cells": [
    {
      "cell_type": "markdown",
      "metadata": {
        "id": "view-in-github",
        "colab_type": "text"
      },
      "source": [
        "<a href=\"https://colab.research.google.com/github/shin-ta/Python-study/blob/main/%E3%82%BF%E3%82%A4%E3%82%BF%E3%83%8B%E3%83%83%E3%82%AF_20220420.ipynb\" target=\"_parent\"><img src=\"https://colab.research.google.com/assets/colab-badge.svg\" alt=\"Open In Colab\"/></a>"
      ]
    },
    {
      "cell_type": "markdown",
      "source": [
        "前回勉強会では、勾配ブースティングで生存率を予測し、SIGNATEの評価が「0.8784929」（46位）となりました。\n",
        "\n",
        "今回は、この評価の更新を目指します。"
      ],
      "metadata": {
        "id": "Bhby6NIzexnE"
      }
    },
    {
      "cell_type": "code",
      "source": [
        "# matplotlibの日本語対応ライブラリをインストール\n",
        "!pip install japanize_matplotlib"
      ],
      "metadata": {
        "id": "lGV3oKA6FRx4"
      },
      "execution_count": null,
      "outputs": []
    },
    {
      "cell_type": "markdown",
      "source": [
        "**1. データを読み込もう**"
      ],
      "metadata": {
        "id": "UBLO6aRvQr5w"
      }
    },
    {
      "cell_type": "code",
      "source": [
        "# アップロードしたデータをデータフレームに変換\n",
        "import pandas as pd\n",
        "train = pd.read_csv(\"train.tsv\", sep=\"\\t\", index_col=0)                               # 学習用データ\n",
        "test = pd.read_csv(\"test.tsv\", sep=\"\\t\", index_col=0)                                 # 評価用データ\n",
        "sample_submit = pd.read_csv(\"sample_submit.tsv\", sep=\"\\t\", index_col=0, header=None)  # 応募用サンプルファイル"
      ],
      "metadata": {
        "id": "jm_nRHxFnkch"
      },
      "execution_count": null,
      "outputs": []
    },
    {
      "cell_type": "markdown",
      "source": [
        "**2. データの概要を確認しよう**"
      ],
      "metadata": {
        "id": "med6_MkZAkwG"
      }
    },
    {
      "cell_type": "code",
      "source": [
        "# 学習用データ、評価用データの先頭5件を確認\n",
        "print(train.head())\n",
        "print('====================================================================')\n",
        "print(test.head())"
      ],
      "metadata": {
        "id": "vjJfuy75z0nh"
      },
      "execution_count": null,
      "outputs": []
    },
    {
      "cell_type": "code",
      "source": [
        "# 学習用データと評価用データのサイズ（行数、列数）を確認\n",
        "train.shape, test.shape"
      ],
      "metadata": {
        "id": "yU1UV6pA0hnU"
      },
      "execution_count": null,
      "outputs": []
    },
    {
      "cell_type": "code",
      "source": [
        "# 学習用データと評価用データの要約情報（データ型、欠損値有無 等）を確認\n",
        "print(train.info())\n",
        "print('====================================================================')\n",
        "print(test.info())"
      ],
      "metadata": {
        "id": "Zk8AkwtD03lO"
      },
      "execution_count": null,
      "outputs": []
    },
    {
      "cell_type": "code",
      "source": [
        "# 学習用データと評価用データの欠損値の割合を確認\n",
        "print(train.isnull().sum()/train.count())\n",
        "print('====================================================================')\n",
        "print(test.isnull().sum()/test.count())"
      ],
      "metadata": {
        "id": "HklRJCDH0WHc"
      },
      "execution_count": null,
      "outputs": []
    },
    {
      "cell_type": "code",
      "source": [
        "# 学習用データと評価用データの基本統計量（数値項目）を確認\n",
        "print(train[['pclass', 'age', 'sibsp', 'parch', 'fare', 'survived']].describe())\n",
        "print('====================================================================')\n",
        "print(test.describe())"
      ],
      "metadata": {
        "id": "G_4ICmA_1h4N"
      },
      "execution_count": null,
      "outputs": []
    },
    {
      "cell_type": "code",
      "source": [
        "# 学習用データと評価用データの基本統計量（カテゴリ項目）を確認\n",
        "category = ['sex', 'embarked']\n",
        "print(train[category].describe())\n",
        "print('====================================================================')\n",
        "print(test[category].describe())"
      ],
      "metadata": {
        "id": "csjpY87Y1Urt"
      },
      "execution_count": null,
      "outputs": []
    },
    {
      "cell_type": "code",
      "source": [
        "# survivedと各項目の相関係数を取得\n",
        "pd.get_dummies(train).corrwith(train[\"survived\"])"
      ],
      "metadata": {
        "id": "QsvX3E8ngAUg"
      },
      "execution_count": null,
      "outputs": []
    },
    {
      "cell_type": "code",
      "source": [
        "# 各項目間の相関係数を取得\n",
        "pd.get_dummies(train).corr()"
      ],
      "metadata": {
        "id": "v4a1TVpShQr2"
      },
      "execution_count": null,
      "outputs": []
    },
    {
      "cell_type": "markdown",
      "source": [
        "**3. データを分析してみよう**"
      ],
      "metadata": {
        "id": "AY-NvLSsEW3o"
      }
    },
    {
      "cell_type": "code",
      "source": [
        "# ワーニングの出力を停止\n",
        "import warnings\n",
        "warnings.filterwarnings('ignore') "
      ],
      "metadata": {
        "id": "y-W_0tJE0jaN"
      },
      "execution_count": null,
      "outputs": []
    },
    {
      "cell_type": "code",
      "source": [
        "# 各種モジュールをインポート\n",
        "import numpy as np\n",
        "import pandas as pd\n",
        "import matplotlib.pyplot as plt\n",
        "%matplotlib inline\n",
        "import seaborn as sns\n",
        "import japanize_matplotlib"
      ],
      "metadata": {
        "id": "AmyA3kXHFzaG"
      },
      "execution_count": null,
      "outputs": []
    },
    {
      "cell_type": "code",
      "source": [
        "# 生存率を可視化\n",
        "fig, ax = plt.subplots()\n",
        "labels = [\"0 : 死亡\",\"1 : 生存\"]\n",
        "ax.pie(train['survived'].value_counts(), labels=labels ,autopct=\"%.1f%%\")\n",
        "ax.set_title('生存率')\n",
        "plt.show()"
      ],
      "metadata": {
        "id": "DTpEx0MNGdfM"
      },
      "execution_count": null,
      "outputs": []
    },
    {
      "cell_type": "code",
      "source": [
        "# 客室クラス別の人数と生存率を可視化\n",
        "fig, ax = plt.subplots(ncols=3, figsize=(10,4), tight_layout=True)\n",
        "sns.countplot(x='pclass', data=train, color='r', ax=ax[0])\n",
        "sns.countplot(x='pclass', hue='survived', data=train, ax=ax[1])\n",
        "sns.barplot(x='pclass', y='survived', data=train, ci=None, color='b', ax=ax[2])\n",
        "ax[0].set_title('客室クラス別乗客数')\n",
        "ax[1].set_title('客室クラス別死亡・生存者数')\n",
        "ax[2].set_title('客室クラス別生存率')\n",
        "plt.show()"
      ],
      "metadata": {
        "id": "SScunNNzHXNi"
      },
      "execution_count": null,
      "outputs": []
    },
    {
      "cell_type": "code",
      "source": [
        "# 男女別の人数と生存率を可視化\n",
        "fig, ax = plt.subplots(ncols=3, figsize=(10,4), tight_layout=True)\n",
        "sns.countplot(x='sex', data=train, color='r', ax=ax[0])\n",
        "sns.countplot(x='sex', hue='survived', data=train, ax=ax[1])\n",
        "sns.barplot(x='sex', y='survived', data=train, ci=None, color='b', ax=ax[2])\n",
        "ax[0].set_title('男女別乗客数')\n",
        "ax[1].set_title('男女別死亡・生存者数')\n",
        "ax[2].set_title('男女別生存率')\n",
        "plt.show()"
      ],
      "metadata": {
        "id": "PwHwBlRKHXCd"
      },
      "execution_count": null,
      "outputs": []
    },
    {
      "cell_type": "code",
      "source": [
        "# 乗船港別の人数と生存率を可視化\n",
        "fig, ax = plt.subplots(ncols=3, figsize=(10,4), tight_layout=True)\n",
        "sns.countplot(x='embarked', data=train, color='r', ax=ax[0])\n",
        "sns.countplot(x='embarked', hue='survived', data=train, ax=ax[1])\n",
        "sns.barplot(x='embarked', y='survived', data=train, ci=None, color='b', ax=ax[2])\n",
        "ax[0].set_title('乗船港別乗客数')\n",
        "ax[1].set_title('乗船港別死亡・生存者数')\n",
        "ax[2].set_title('乗船港別生存率')\n",
        "plt.show()"
      ],
      "metadata": {
        "id": "a6Y7Y4DCHWyH"
      },
      "execution_count": null,
      "outputs": []
    },
    {
      "cell_type": "code",
      "source": [
        "# 年代別の人数と生存率を可視化\n",
        "# 10歳毎の年代に分割\n",
        "bins=list(range(0,81,10))\n",
        "labels=['~'+str(x) for x in range(10, 81, 10)]\n",
        "train['age_bin'] = pd.cut(train['age'], bins=bins, labels=labels)\n",
        "\n",
        "fig, ax = plt.subplots(ncols=3, figsize=(10,4), tight_layout=True)\n",
        "sns.countplot(x='age_bin', data=train, color='r', ax=ax[0])\n",
        "sns.countplot(x='age_bin', hue='survived', data=train, ax=ax[1])\n",
        "sns.barplot(x='age_bin', y='survived', data=train, ci=None, color='b', ax=ax[2])\n",
        "ax[0].set_title('年代別乗客数')\n",
        "ax[1].set_title('年代別死亡・生存者数')\n",
        "ax[2].set_title('年代別生存率')\n",
        "train = train.drop('age_bin', axis=1)\n",
        "plt.show()\n"
      ],
      "metadata": {
        "id": "GmWk0iHkAinf"
      },
      "execution_count": null,
      "outputs": []
    },
    {
      "cell_type": "code",
      "source": [
        "# 運賃別の人数と生存率を可視化\n",
        "# 10きざみの運賃に分割\n",
        "bins=list(range(0,521,10))\n",
        "bins[0]=-1\n",
        "labels=['~'+str(x) for x in range(10, 521, 10)]\n",
        "train['fare_bin'] = pd.cut(train['fare'], bins=bins, labels=labels)\n",
        "\n",
        "fig, ax = plt.subplots(nrows=3, figsize=(12,8), tight_layout=True)\n",
        "sns.countplot(x='fare_bin', data=train, color='r', ax=ax[0])\n",
        "sns.countplot(x='fare_bin', hue='survived', data=train, ax=ax[1])\n",
        "sns.barplot(x='fare_bin', y='survived', data=train, ci=None, color='b', ax=ax[2])\n",
        "ax[0].set_title('運賃別乗客数')\n",
        "ax[1].set_title('運賃別死亡・生存者数')\n",
        "ax[2].set_title('運賃別生存率')\n",
        "plt.setp(ax[0].get_xticklabels(), rotation=45)\n",
        "plt.setp(ax[1].get_xticklabels(), rotation=45)\n",
        "plt.setp(ax[2].get_xticklabels(), rotation=45)\n",
        "train = train.drop('fare_bin', axis=1)\n",
        "plt.show()"
      ],
      "metadata": {
        "id": "r7KH6kjlbeqH"
      },
      "execution_count": null,
      "outputs": []
    },
    {
      "cell_type": "code",
      "source": [
        "# 家族数(兄弟、配偶者)別の人数と生存率を可視化\n",
        "fig, ax = plt.subplots(ncols=3, figsize=(10,4), tight_layout=True)\n",
        "sns.countplot(x='sibsp', data=train, color='r', ax=ax[0])\n",
        "sns.countplot(x='sibsp', hue='survived', data=train, ax=ax[1])\n",
        "sns.barplot(x='sibsp', y='survived', data=train, ci=None, color='b', ax=ax[2])\n",
        "ax[0].set_title('家族数(兄弟、配偶者)別乗客数')\n",
        "ax[1].set_title('家族数(兄弟、配偶者)別死亡・生存者数')\n",
        "ax[2].set_title('家族数(兄弟、配偶者)別生存率')\n",
        "plt.show()"
      ],
      "metadata": {
        "id": "of2jm7CWLfYX"
      },
      "execution_count": null,
      "outputs": []
    },
    {
      "cell_type": "code",
      "source": [
        "# 家族数(親、子供)別の人数と生存率を可視化\n",
        "fig, ax = plt.subplots(ncols=3, figsize=(10,4), tight_layout=True)\n",
        "sns.countplot(x='parch', data=train, color='r', ax=ax[0])\n",
        "sns.countplot(x='parch', hue='survived', data=train, ax=ax[1])\n",
        "sns.barplot(x='parch', y='survived', data=train, ci=None, color='b', ax=ax[2])\n",
        "ax[0].set_title('家族数(親、子供)別乗客数')\n",
        "ax[1].set_title('家族数(親、子供)別死亡・生存者数')\n",
        "ax[2].set_title('家族数(親、子供)別生存率')\n",
        "plt.show()"
      ],
      "metadata": {
        "id": "oAKOqxW8NOPs"
      },
      "execution_count": null,
      "outputs": []
    },
    {
      "cell_type": "code",
      "source": [
        "# 総家族数別の人数と生存率を可視化\n",
        "train['family'] = train['sibsp'] + train['parch']\n",
        "fig, ax = plt.subplots(ncols=3, figsize=(10,4), tight_layout=True)\n",
        "sns.countplot(x='family', data=train, color='r', ax=ax[0])\n",
        "sns.countplot(x='family', hue='survived', data=train, ax=ax[1])\n",
        "sns.barplot(x='family', y='survived', data=train, ci=None, color='b', ax=ax[2])\n",
        "ax[0].set_title('総家族数別乗客数')\n",
        "ax[1].set_title('総家族数別死亡・生存者数')\n",
        "ax[2].set_title('総家族数別生存率')\n",
        "train = train.drop('family', axis=1)\n",
        "plt.show()"
      ],
      "metadata": {
        "id": "65Y7eqWdd_td"
      },
      "execution_count": null,
      "outputs": []
    },
    {
      "cell_type": "code",
      "source": [
        "# survivedと各項目の相関係数を可視化\n",
        "corr = pd.get_dummies(train).corrwith(train[\"survived\"])\n",
        "\n",
        "fig, ax = plt.subplots()\n",
        "ax.barh(corr.index, corr, color='r')\n",
        "ax.set_title('「survived」と各項目の相関係数')\n",
        "ax.set_xlim(-1, 1)\n",
        "ax.grid(axis='x')"
      ],
      "metadata": {
        "id": "WUJSMO5FlevT"
      },
      "execution_count": null,
      "outputs": []
    },
    {
      "cell_type": "code",
      "source": [
        "# 各項目間の相関係数をヒートマップで可視化\n",
        "corr = pd.get_dummies(train).corr()\n",
        "\n",
        "fig, ax = plt.subplots(figsize=(15,4))\n",
        "sns.heatmap(corr, cmap= sns.color_palette('coolwarm', 10), annot=True, fmt='.4f', vmin = -1, vmax = 1, ax=ax)\n",
        "ax.set_title('各項目間の相関係数')\n",
        "plt.show()"
      ],
      "metadata": {
        "id": "1lCqXa3umC6f"
      },
      "execution_count": null,
      "outputs": []
    },
    {
      "cell_type": "code",
      "source": [
        "# 散布図行列を表示\n",
        "sns.pairplot(data=train, hue=\"survived\", dropna=True, size=2)"
      ],
      "metadata": {
        "id": "_YX7V2Iemn6_"
      },
      "execution_count": null,
      "outputs": []
    },
    {
      "cell_type": "code",
      "source": [
        "# 年齢を男女別、客室クラス別、生存有無で層別化したカーネル密度推定グラフを可視化\n",
        "oldest = train['age'].max()\n",
        "\n",
        "facet1 = sns.FacetGrid(train, hue=\"sex\", aspect=2)\n",
        "facet1.map(sns.kdeplot, 'age', shade= True)\n",
        "facet1.set(xlim=(0, oldest))\n",
        "facet1.add_legend()\n",
        "\n",
        "facet2 = sns.FacetGrid(train, hue=\"pclass\",aspect=2)\n",
        "facet2.map(sns.kdeplot,'age',shade= True)\n",
        "facet2.set(xlim=(0, oldest))\n",
        "facet2.add_legend()\n",
        "\n",
        "facet3 = sns.FacetGrid(train, hue=\"survived\",aspect=2)\n",
        "facet3.map(sns.kdeplot,'age',shade= True)\n",
        "facet3.set(xlim=(0, oldest))\n",
        "facet3.add_legend()"
      ],
      "metadata": {
        "id": "Qx7td9WdpL0S"
      },
      "execution_count": null,
      "outputs": []
    },
    {
      "cell_type": "code",
      "source": [
        "# 家族人数を生存有無で層別化したカーネル密度推定グラフを可視化\n",
        "train['family'] = train['sibsp'] + train['parch']\n",
        "\n",
        "facet1 = sns.FacetGrid(train, hue=\"survived\",height=2, aspect=3, ylim=(0, 1.2))\n",
        "facet1.map(sns.kdeplot,'family',shade= True)\n",
        "facet1.set(xlim=(0, train['family'].max()))\n",
        "facet1.add_legend()\n",
        "\n",
        "facet1 = sns.FacetGrid(train, hue=\"survived\",height=2, aspect=3, ylim=(0, 1.2))\n",
        "facet1.map(sns.kdeplot,'sibsp',shade= True)\n",
        "facet1.set(xlim=(0, train['family'].max()))\n",
        "facet1.add_legend()\n",
        "\n",
        "facet2 = sns.FacetGrid(train, hue=\"survived\",height=2, aspect=3, ylim=(0, 1.2))\n",
        "facet2.map(sns.kdeplot,'parch',shade= True)\n",
        "facet2.set(xlim=(0, train['family'].max()))\n",
        "facet2.add_legend()"
      ],
      "metadata": {
        "id": "jmrk89uqZN0F"
      },
      "execution_count": null,
      "outputs": []
    },
    {
      "cell_type": "markdown",
      "source": [
        "**4. データの前処理をしてみよう**"
      ],
      "metadata": {
        "id": "f_-p9IpyRs0U"
      }
    },
    {
      "cell_type": "code",
      "source": [
        "# 学習用データと検証用データを結合（一括で前処理を行うため）\n",
        "data = pd.concat([train, test])"
      ],
      "metadata": {
        "id": "5atZyJtlEbPA"
      },
      "execution_count": null,
      "outputs": []
    },
    {
      "cell_type": "code",
      "source": [
        "# embarkedの欠損値処理を実行\n",
        "data['embarked'] = data['embarked'].fillna(data['embarked'].mode()) "
      ],
      "metadata": {
        "id": "K90YQSU4EyJI"
      },
      "execution_count": null,
      "outputs": []
    },
    {
      "cell_type": "code",
      "source": [
        "# sibspとparchを統合し新しい特徴量（family）を作成\n",
        "data['family'] = data['sibsp'] + data['parch']\n",
        "data = data.drop(['sibsp', 'parch'], axis=1)"
      ],
      "metadata": {
        "id": "qq6TGRq8Curr"
      },
      "execution_count": null,
      "outputs": []
    },
    {
      "cell_type": "code",
      "source": [
        "# カテゴリー値（sex、embarked）をダミー変数で数値化\n",
        "data = pd.get_dummies(data)"
      ],
      "metadata": {
        "id": "ICxMVnPY21km"
      },
      "execution_count": null,
      "outputs": []
    },
    {
      "cell_type": "code",
      "source": [
        "# 欠損値補完前のデータを確認\n",
        "data.head(20)"
      ],
      "metadata": {
        "id": "lNioDcaXjw1D"
      },
      "execution_count": null,
      "outputs": []
    },
    {
      "cell_type": "code",
      "source": [
        "# ageの欠損値をランダムフォレストで予測した結果で補完\n",
        "from sklearn.ensemble import RandomForestRegressor\n",
        "\n",
        "# 予測に使用する項目でデータフレームを作成\n",
        "age_data = data.drop('survived', axis=1)\n",
        "\n",
        "# 学習データ（欠損なし）とテストデータ（欠損あり）に分割\n",
        "train_age = age_data[age_data['age'].notnull()]\n",
        "test_age = age_data[age_data['age'].isnull()].drop('age', axis=1)\n",
        "\n",
        "# 学習用データを目的変数と説明変数に分割\n",
        "y = train_age['age']\n",
        "X = train_age.drop('age', axis=1)  \n",
        "\n",
        "# ランダムフォレストで予測モデルを作成\n",
        "clf = RandomForestRegressor(random_state=0, n_estimators=100, n_jobs=-1)\n",
        "clf.fit(X, y)\n",
        "\n",
        "# テストデータのageを予測\n",
        "pred = clf.predict(test_age)\n",
        "pred\n",
        "\n",
        "# 欠損値を補完\n",
        "data.loc[test_age.index, 'age'] = pred"
      ],
      "metadata": {
        "id": "xuHlw_kF6n1y"
      },
      "execution_count": null,
      "outputs": []
    },
    {
      "cell_type": "code",
      "source": [
        "# 欠損値補完後のデータを確認\n",
        "data.head(20)"
      ],
      "metadata": {
        "id": "CxEyOyZQDxxb"
      },
      "execution_count": null,
      "outputs": []
    },
    {
      "cell_type": "code",
      "source": [
        "# 結合したデータを学習用データと検証用データに分割\n",
        "train = data.loc[train.index]\n",
        "test = data.loc[test.index]\n",
        "test = test.drop([\"survived\"], axis=1)"
      ],
      "metadata": {
        "id": "V8F9r_AdSHzC"
      },
      "execution_count": null,
      "outputs": []
    },
    {
      "cell_type": "code",
      "source": [
        "# 学習用データを目的変数と説明変数に分割\n",
        "y = train[\"survived\"]                 # 目的変数\n",
        "X = train.drop(['survived'], axis=1)  # 目的変数を除いたデータ"
      ],
      "metadata": {
        "id": "cDfxbR_MXt6I"
      },
      "execution_count": null,
      "outputs": []
    },
    {
      "cell_type": "markdown",
      "source": [
        "**5. モデリングをしてみよう**"
      ],
      "metadata": {
        "id": "vS6gdIxZ8g0Q"
      }
    },
    {
      "cell_type": "code",
      "source": [
        "# 学習用データをモデル訓練用とモデル検証用に分割\n",
        "from sklearn.model_selection import train_test_split\n",
        "X_train, X_test, y_train, y_test = train_test_split(X, y, test_size=0.2, random_state=0)"
      ],
      "metadata": {
        "id": "_5LlT5sDGEeJ"
      },
      "execution_count": null,
      "outputs": []
    },
    {
      "cell_type": "code",
      "source": [
        "# グリッドサーチで最良のパラメータの組み合わせを取得\n",
        "from sklearn.model_selection import GridSearchCV\n",
        "from sklearn.ensemble import GradientBoostingClassifier\n",
        "\n",
        "# パラメータ候補を辞書型で設定\n",
        "param = {'max_depth':[2, 3, 4],                                             # デフォルト値：3\n",
        "         'learning_rate':[0.024, 0.025, 0.026, 0.027],                      # デフォルト値：0.1\n",
        "         'n_estimators':[103, 104, 105, 106, 107, 108, 109, 110, 111],      # デフォルト値：100\n",
        "         'random_state':[0]}\n",
        "\n",
        "# 勾配ブースティングによる学習\n",
        "cv = 5\n",
        "clf = GridSearchCV(GradientBoostingClassifier(), param, cv=cv)\n",
        "clf.fit(X_train,y_train)                           \n",
        " \n",
        "# 結果の確認\n",
        "print('最良条件:\\n', clf.best_estimator_)\n",
        "print('最良スコア:\\n',clf.best_score_)"
      ],
      "metadata": {
        "id": "YtsRJ-dwHurW"
      },
      "execution_count": null,
      "outputs": []
    },
    {
      "cell_type": "code",
      "source": [
        "# 最良パラメータの勾配ブースティングでモデリング\n",
        "model = GradientBoostingClassifier(learning_rate=0.026, \n",
        "                                   n_estimators=104,\n",
        "                                   random_state=0)\n",
        "model.fit(X_train, y_train)\n",
        "print(\"訓練データによる評価: \",model.score(X_train, y_train))\n",
        "print(\"検証データによる評価: \",model.score(X_test, y_test))"
      ],
      "metadata": {
        "id": "74DC10bYSQ09"
      },
      "execution_count": null,
      "outputs": []
    },
    {
      "cell_type": "code",
      "source": [
        "# 評価用データの生存率を予測\n",
        "pred = model.predict_proba(test)[:, 1] "
      ],
      "metadata": {
        "id": "EVqIP5g3UKQT"
      },
      "execution_count": null,
      "outputs": []
    },
    {
      "cell_type": "markdown",
      "source": [
        "**6. 予測結果を投稿しよう**"
      ],
      "metadata": {
        "id": "OElsfUGvdx-G"
      }
    },
    {
      "cell_type": "code",
      "source": [
        "# 応募用サンプルファイルに生存率をセットして出力\n",
        "sample_submit[1] = pred\n",
        "sample_submit.to_csv('submit_mmdd_x.tsv', header=None, sep='\\t')"
      ],
      "metadata": {
        "id": "xLfUONlAMka7"
      },
      "execution_count": null,
      "outputs": []
    },
    {
      "cell_type": "markdown",
      "source": [
        "**お疲れ様でした！**"
      ],
      "metadata": {
        "id": "_UFN7ZHZi6-B"
      }
    }
  ]
}