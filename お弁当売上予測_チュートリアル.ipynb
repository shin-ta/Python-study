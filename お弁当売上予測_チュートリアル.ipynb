{
  "nbformat": 4,
  "nbformat_minor": 0,
  "metadata": {
    "colab": {
      "name": "お弁当売上予測_チュートリアル.ipynb",
      "provenance": [],
      "authorship_tag": "ABX9TyOLfiaNQG0m4qYR4h0Ajphs",
      "include_colab_link": true
    },
    "kernelspec": {
      "name": "python3",
      "display_name": "Python 3"
    },
    "language_info": {
      "name": "python"
    }
  },
  "cells": [
    {
      "cell_type": "markdown",
      "metadata": {
        "id": "view-in-github",
        "colab_type": "text"
      },
      "source": [
        "<a href=\"https://colab.research.google.com/github/shin-ta/Python-study/blob/main/%E3%81%8A%E5%BC%81%E5%BD%93%E5%A3%B2%E4%B8%8A%E4%BA%88%E6%B8%AC_%E3%83%81%E3%83%A5%E3%83%BC%E3%83%88%E3%83%AA%E3%82%A2%E3%83%AB.ipynb\" target=\"_parent\"><img src=\"https://colab.research.google.com/assets/colab-badge.svg\" alt=\"Open In Colab\"/></a>"
      ]
    },
    {
      "cell_type": "code",
      "source": [
        "# グラフに日本語を表示させるためのライブラリをインストール\n",
        "!pip install japanize-matplotlib"
      ],
      "metadata": {
        "id": "LD6Hzu_G-0ig"
      },
      "execution_count": null,
      "outputs": []
    },
    {
      "cell_type": "code",
      "execution_count": null,
      "metadata": {
        "id": "CP4ec49G9fiT"
      },
      "outputs": [],
      "source": [
        "# ライブラリをインポート\n",
        "import pandas as pd\n",
        "import numpy as np\n",
        "from matplotlib import pyplot as plt\n",
        "import japanize_matplotlib\n",
        "import seaborn as sns\n",
        "sns.set(font='IPAexGothic', style='white')"
      ]
    },
    {
      "cell_type": "code",
      "source": [
        "# SIGNATEからダウンロードしたデータをデータフレームに読み込み\n",
        "train = pd.read_csv('train.csv')\n",
        "test = pd.read_csv('test.csv')\n",
        "sample = pd.read_csv('sample.csv',header=None)\n",
        "\n",
        "# データフレームのサイズを表示\n",
        "print('Data Shapes')\n",
        "print('Train:',train.shape, 'Test:',test.shape, 'Sample:',sample.shape)"
      ],
      "metadata": {
        "id": "MV2_w_4U93UY"
      },
      "execution_count": null,
      "outputs": []
    },
    {
      "cell_type": "code",
      "source": [
        "# 【参考】学習用データとテスト用データの要約情報（データ型、欠損値有無 等）を確認\n",
        "print(train.info())\n",
        "print('================================================')\n",
        "print(test.info())"
      ],
      "metadata": {
        "id": "idnbBAKoMSso"
      },
      "execution_count": null,
      "outputs": []
    },
    {
      "cell_type": "code",
      "source": [
        "# 学習用データのインデックスに[datetime]列の値を設定\n",
        "train.index = pd.to_datetime(train['datetime'])\n",
        "train.head()"
      ],
      "metadata": {
        "id": "dHrtv4sj-Jtg"
      },
      "execution_count": null,
      "outputs": []
    },
    {
      "cell_type": "code",
      "source": [
        "# 学習用データの統計情報を表示（数値項目）\n",
        "train.describe()"
      ],
      "metadata": {
        "id": "luOpYtoy-X7x"
      },
      "execution_count": null,
      "outputs": []
    },
    {
      "cell_type": "code",
      "source": [
        "# 学習用データの統計情報を表示（数値項目以外）\n",
        "train.describe(include='O')"
      ],
      "metadata": {
        "id": "8BZBlgf4-uh6"
      },
      "execution_count": null,
      "outputs": []
    },
    {
      "cell_type": "code",
      "source": [
        "# 欠損値の補完と値の置き換え\n",
        "train['payday'] = train['payday'].fillna(0)\n",
        "train['precipitation'] = train['precipitation'].apply(lambda x : -1 if x == '--' else float(x))\n",
        "train['event'] = train['event'].fillna('なし')\n",
        "train['remarks'] = train['remarks'].fillna('なし')\n",
        "\n",
        "# 月情報を保有する説明変数（特徴量）を作成\n",
        "train['month'] = train['datetime'].apply(lambda x : int(x.split('-')[1]))"
      ],
      "metadata": {
        "id": "HAYb5yE-_CFJ"
      },
      "execution_count": null,
      "outputs": []
    },
    {
      "cell_type": "code",
      "source": [
        "# 弁当の売上げ（[y]列）をグラフで表示\n",
        "train['y'].plot(figsize=(15,4))"
      ],
      "metadata": {
        "id": "gV0bCGaYACPw"
      },
      "execution_count": null,
      "outputs": []
    },
    {
      "cell_type": "code",
      "source": [
        "# 各種特徴量と弁当売上の関係を散布図で表示\n",
        "fig, ax = plt.subplots(2, 3, figsize=(9,6))\n",
        "train.plot.scatter(x='soldout', y='y', ax=ax[0][0])\n",
        "train.plot.scatter(x='kcal', y='y', ax=ax[0][1])\n",
        "train.plot.scatter(x='precipitation', y='y', ax=ax[0][2])\n",
        "train.plot.scatter(x='payday', y='y', ax=ax[1][0])\n",
        "train.plot.scatter(x='temperature', y='y', ax=ax[1][1])\n",
        "train.plot.scatter(x='month', y='y', ax=ax[1][2])\n",
        "plt.tight_layout()"
      ],
      "metadata": {
        "id": "hCpVVSH7AOHp"
      },
      "execution_count": null,
      "outputs": []
    },
    {
      "cell_type": "code",
      "source": [
        "# 各種特徴量と弁当売上の関係を箱ひげ図で表示\n",
        "fig, ax = plt.subplots(2, 2, figsize=(12,7))\n",
        "sns.boxplot(x='week', y='y', data=train, ax=ax[0][0])\n",
        "sns.boxplot(x='weather', y='y', data=train, ax=ax[0][1])\n",
        "sns.boxplot(x='remarks', y='y', data=train, ax=ax[1][0])\n",
        "ax[1][0].set_xticklabels(ax[1][0].get_xticklabels(), rotation=30)\n",
        "sns.boxplot(x='event', y='y', data=train, ax=ax[1][1])\n",
        "plt.tight_layout()"
      ],
      "metadata": {
        "id": "IsdGHxsFRqYa"
      },
      "execution_count": null,
      "outputs": []
    },
    {
      "cell_type": "code",
      "source": [
        "# 「お楽しみメニュー」でなかった日の弁当の売上げ（[y]列）をグラフで表示\n",
        "train[train['remarks']!='お楽しみメニュー']['y'].plot(figsize=(15,4))\n",
        "\n",
        "# 弁当売上のグラフを重ねて表示\n",
        "# train['y'].plot(c='r', ls='dashed')"
      ],
      "metadata": {
        "id": "KU0o90T2BJto"
      },
      "execution_count": null,
      "outputs": []
    },
    {
      "cell_type": "code",
      "source": [
        "# 「お楽しみメニュー」かどうかの情報を保有する説明変数（特徴量）を作成\n",
        "train['fun'] = train['remarks'].apply(lambda x: 1 if x=='お楽しみメニュー' else 0)\n",
        "\n",
        "# 「お楽しみメニュー」情報と弁当売上の関係を箱ひげ図で表示\n",
        "sns.boxplot(x='fun', y='y', data=train)"
      ],
      "metadata": {
        "id": "gtXTBaSSCTxE"
      },
      "execution_count": null,
      "outputs": []
    },
    {
      "cell_type": "code",
      "source": [
        "# 「お楽しみメニュー」のデータと「お楽しみメニュー」以外のデータで中央値検定を実行\n",
        "from scipy.stats import median_test\n",
        "stat, p, med, tbl = median_test(train[train['fun']==1]['y'], train[train['fun']==0]['y'])\n",
        "print('p', p, 'stat', stat)"
      ],
      "metadata": {
        "id": "azKbliSxCk83"
      },
      "execution_count": null,
      "outputs": []
    },
    {
      "cell_type": "code",
      "source": [
        "# 「お楽しみメニュー」の日の弁当の売上げ（[y]列）をグラフで表示\n",
        "train[train['remarks']=='お楽しみメニュー']['y'].plot(figsize=(15,4))"
      ],
      "metadata": {
        "id": "-5L6JiHMCxHA"
      },
      "execution_count": null,
      "outputs": []
    },
    {
      "cell_type": "code",
      "source": [
        "# 「お楽しみメニュー」の日のデータを表示\n",
        "train[train['remarks']=='お楽しみメニュー']"
      ],
      "metadata": {
        "id": "cg0w3VZXC3to"
      },
      "execution_count": null,
      "outputs": []
    },
    {
      "cell_type": "code",
      "source": [
        "# メインメニューが「カレー」かどうかの情報を保有する説明変数（特徴量）を作成\n",
        "train['curry'] = train['name'].apply(lambda x : 1 if x.find('カレー')>=0 else 0)\n",
        "\n",
        "# 「カレー」情報と弁当売上の関係を箱ひげ図で表示\n",
        "sns.boxplot(x='curry', y='y', data=train)"
      ],
      "metadata": {
        "id": "wS1RiFkzC-Jf"
      },
      "execution_count": null,
      "outputs": []
    },
    {
      "cell_type": "code",
      "source": [
        "# メインメニューが「カレー」のデータと「カレー」以外のデータで中央値検定を実行\n",
        "stat, p, med, tbl = median_test(train[train['curry']==1]['y'], train[train['curry']==0]['y'])\n",
        "print('p:', p, 'stat', stat)"
      ],
      "metadata": {
        "id": "k10oZhfjDRFv"
      },
      "execution_count": null,
      "outputs": []
    },
    {
      "cell_type": "markdown",
      "source": [
        "モデル学習"
      ],
      "metadata": {
        "id": "aSeOdKOic_vU"
      }
    },
    {
      "cell_type": "code",
      "source": [
        "# SIGNATEからダウンロードしたデータをデータフレームに読み込み\n",
        "train = pd.read_csv('train.csv')\n",
        "test = pd.read_csv('test.csv')\n",
        "sample = pd.read_csv('sample.csv',header=None)"
      ],
      "metadata": {
        "id": "PtqQco-xDX3Y"
      },
      "execution_count": null,
      "outputs": []
    },
    {
      "cell_type": "code",
      "source": [
        "# 学習用データとテスト用データを区別するフラグを付加してデータを結合する\n",
        "train['t'] = 1\n",
        "test['t'] = 0\n",
        "dat = pd.concat([train, test],sort=True).reset_index(drop=True)"
      ],
      "metadata": {
        "id": "wGOacmcOD8iY"
      },
      "execution_count": null,
      "outputs": []
    },
    {
      "cell_type": "code",
      "source": [
        "# 「2014-05-01」以降のデータを取得する\n",
        "dat.index = pd.to_datetime(dat['datetime'])\n",
        "dat = dat['2014-05-01':]\n",
        "dat = dat.reset_index(drop=True)\n",
        "\n",
        "# 学習に必要な説明変数（特徴量）を作成\n",
        "dat['days'] = dat.index\n",
        "dat['precipitation'] = dat['precipitation'].apply(lambda x : -1 if x=='--' else x).astype(np.float)\n",
        "dat['fun'] = dat['remarks'].apply(lambda x: 1 if x=='お楽しみメニュー' else 0)\n",
        "dat['curry'] = dat['name'].apply(lambda x : 1 if x.find('カレー')>=0 else 0)\n",
        "\n",
        "# 学習で使用する説明変数（特徴量）と目的変数をリストに格納\n",
        "cols = ['precipitation', 'weather', 'days', 'fun', 'curry', 'y']"
      ],
      "metadata": {
        "id": "UB_KtkwxEBXv"
      },
      "execution_count": null,
      "outputs": []
    },
    {
      "cell_type": "code",
      "source": [
        "# モデル学習に必要なライブラリをインポート\n",
        "from sklearn.model_selection import KFold\n",
        "from sklearn.metrics import mean_squared_error as MSE\n",
        "from sklearn.linear_model import LinearRegression as LR\n",
        "from sklearn.ensemble import RandomForestRegressor as RF"
      ],
      "metadata": {
        "id": "RW6mGPySEv2f"
      },
      "execution_count": null,
      "outputs": []
    },
    {
      "cell_type": "code",
      "source": [
        "# 学習済みモデル作成関数を定義\n",
        "def learning(trainX, y_train):\n",
        "    # モデルのインスタンスを作成\n",
        "    model1 = LR()\n",
        "    model2 = RF(n_estimators=100, max_depth=4, random_state=777)\n",
        "\n",
        "    # 経過日数を説明変数（特徴量）として、弁当売上を予測する単回帰モデルを学習\n",
        "    model1.fit(trainX['days'].values.reshape(-1,1), y_train)\n",
        "\n",
        "    # 実際の弁当売上と単回帰モデルによる売上予測の差分を特殊要因による売上として取得\n",
        "    pred = model1.predict(trainX['days'].values.reshape(-1,1))\n",
        "    pred_sub = y_train - pred\n",
        "\n",
        "    # 指定した項目を説明変数（特徴量）として、特殊要因による売上を予測するモデルを学習\n",
        "    model2.fit(trainX.iloc[:, ~trainX.columns.str.match('y')], pred_sub)\n",
        "\n",
        "    # 学習済みモデルを返す\n",
        "    return model1, model2"
      ],
      "metadata": {
        "id": "XXOjcUWJE0Xo"
      },
      "execution_count": null,
      "outputs": []
    },
    {
      "cell_type": "code",
      "source": [
        "# 【参考】\n",
        "# ウォーニングを非表示にする\n",
        "import warnings\n",
        "warnings.filterwarnings('ignore')\n",
        "\n",
        "# ウォーニングを再表示する（表示設定を初期化する）\n",
        "# warnings.resetwarnings()"
      ],
      "metadata": {
        "id": "dKOu4P9NV1Nr"
      },
      "execution_count": null,
      "outputs": []
    },
    {
      "cell_type": "code",
      "source": [
        "# クロスバリデーション用のデータ分割方法を定義\n",
        "kf = KFold(n_splits=5, random_state=777, shuffle=True)\n",
        "\n",
        "# クロスバリデーションの対象データを取得\n",
        "tr = dat[dat['t']==1][cols]\n",
        "\n",
        "# クロスバリデーションによる評価結果を格納するリストを初期化\n",
        "trains = []\n",
        "tests = []\n",
        "\n",
        "# クロスバリデーションを実行\n",
        "for train_index, test_index in kf.split(tr):\n",
        "    # 訓練用データと検証用データを区別するためのフラグを設定\n",
        "    tr.loc[train_index,'tt'] = 1\n",
        "    tr.loc[test_index,'tt'] = 0\n",
        "    tr['tt'] = tr['tt'].astype(np.int)\n",
        "    tmp = pd.get_dummies(tr)\n",
        "    \n",
        "    # 訓練用データを取得\n",
        "    trainX = tmp[tmp['tt']==1]\n",
        "    del trainX['tt']\n",
        "\n",
        "    # 検証用データを取得\n",
        "    testX = tmp[tmp['tt']==0]\n",
        "    del testX['tt']\n",
        "\n",
        "    # 訓練用データ、検証用データより目的変数を取得\n",
        "    y_train = tmp[tmp['tt']==1]['y']\n",
        "    y_test = tmp[tmp['tt']==0]['y']\n",
        "    \n",
        "    # 学習済みモデル作成関数を実行\n",
        "    model1, model2 = learning(trainX, y_train)\n",
        "    \n",
        "    # 学習済みモデルで訓練用データ、検証用データの弁当売上を予測\n",
        "    pred_train = model1.predict(trainX['days'].values.reshape(-1,1)) + model2.predict(trainX.iloc[:, ~trainX.columns.str.match('y')])\n",
        "    pred_test = model1.predict(testX['days'].values.reshape(-1,1)) + model2.predict(testX.iloc[:, ~testX.columns.str.match('y')])\n",
        "    \n",
        "    # 予測結果の評価をリストに格納\n",
        "    print('TRAIN:',MSE(y_train,pred_train)**0.5, 'VARIDATE',MSE(y_test, pred_test)**0.5)\n",
        "    trains.append(MSE(y_train,pred_train)**0.5)\n",
        "    tests.append(MSE(y_test, pred_test)**0.5)\n",
        "\n",
        "# 評価の平均値を表示\n",
        "print('AVG')\n",
        "print(np.array(trains).mean(), np.array(tests).mean())"
      ],
      "metadata": {
        "id": "mJdjRPTQF9vi"
      },
      "execution_count": null,
      "outputs": []
    },
    {
      "cell_type": "markdown",
      "source": [
        "予測実行"
      ],
      "metadata": {
        "id": "kt6DE453kSMD"
      }
    },
    {
      "cell_type": "code",
      "source": [
        "# 結合した学習用データ、テスト用データから必要な項目を取得する\n",
        "cols = [\"precipitation\",\"weather\",\"days\",\"fun\",\"curry\",\"y\",\"t\"]\n",
        "tmp = pd.get_dummies(dat[cols])\n",
        "\n",
        "# 取得したデータを学習用データとテスト用データに分割する\n",
        "trainX = tmp[tmp[\"t\"]==1]\n",
        "del trainX[\"t\"]\n",
        "testX = tmp[tmp[\"t\"]==0]\n",
        "del testX[\"t\"]\n",
        "\n",
        "# 目的変数を作成\n",
        "y_train = tmp[tmp[\"t\"]==1][\"y\"]\n",
        "y_test = tmp[tmp[\"t\"]==0][\"y\"]"
      ],
      "metadata": {
        "id": "rNDNYloFGVWg"
      },
      "execution_count": null,
      "outputs": []
    },
    {
      "cell_type": "code",
      "source": [
        "# 学習用データで予測実行\n",
        "model1, model2 = learning(trainX, y_train)\n",
        "pred = model1.predict(trainX[\"days\"].values.reshape(-1,1)) + model2.predict(trainX.iloc[:, ~trainX.columns.str.match(\"y\")])\n",
        "\n",
        "# 実際の弁当売上と予測結果をグラフで表示\n",
        "p = pd.DataFrame({\"actual\":y_train, \"pred\":pred})\n",
        "p.plot(figsize=(15,4))\n",
        "\n",
        "# 予測結果の評価を表示\n",
        "print(\"RMSE\",MSE(y_train, pred)**0.5)"
      ],
      "metadata": {
        "id": "lxRbIm-fHoWM"
      },
      "execution_count": null,
      "outputs": []
    },
    {
      "cell_type": "code",
      "source": [
        "# テスト用データで予測実行\n",
        "model1, model2 = learning(trainX, y_train)\n",
        "pred = model1.predict(testX[\"days\"].values.reshape(-1,1)) + model2.predict(testX.iloc[:, ~testX.columns.str.match(\"y\")])\n",
        "\n",
        "# 予測結果をグラフで表示\n",
        "plt.figure(figsize=(15,4))\n",
        "plt.plot(pred)"
      ],
      "metadata": {
        "id": "bJiIZDyGHx_v"
      },
      "execution_count": null,
      "outputs": []
    },
    {
      "cell_type": "code",
      "source": [
        "# テストデータの予測結果を投稿用データに設定してファイル出力\n",
        "sample[1] = pred\n",
        "sample.to_csv(\"submit0615_01.csv\",index=None,header=None)"
      ],
      "metadata": {
        "id": "OqofpMSOH6zo"
      },
      "execution_count": null,
      "outputs": []
    },
    {
      "cell_type": "code",
      "source": [
        ""
      ],
      "metadata": {
        "id": "8NvuK476IOM4"
      },
      "execution_count": null,
      "outputs": []
    }
  ]
}