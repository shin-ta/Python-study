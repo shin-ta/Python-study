{
  "nbformat": 4,
  "nbformat_minor": 0,
  "metadata": {
    "colab": {
      "name": "sample01.ipynb",
      "provenance": [],
      "collapsed_sections": [],
      "authorship_tag": "ABX9TyMIfXItJJEMy75FX1a74Z4A",
      "include_colab_link": true
    },
    "kernelspec": {
      "name": "python3",
      "display_name": "Python 3"
    },
    "language_info": {
      "name": "python"
    }
  },
  "cells": [
    {
      "cell_type": "markdown",
      "metadata": {
        "id": "view-in-github",
        "colab_type": "text"
      },
      "source": [
        "<a href=\"https://colab.research.google.com/github/shin-ta/Python-study/blob/main/sample01.ipynb\" target=\"_parent\"><img src=\"https://colab.research.google.com/assets/colab-badge.svg\" alt=\"Open In Colab\"/></a>"
      ]
    },
    {
      "cell_type": "markdown",
      "metadata": {
        "id": "8B1q5xQk_f0T"
      },
      "source": [
        "◎ SIGNATEからダウンロードしたCSVファイルをアップロードします"
      ]
    },
    {
      "cell_type": "code",
      "metadata": {
        "id": "qjIl3LBWaWpO"
      },
      "source": [
        "from google.colab import files\n",
        "uploaded = files.upload()"
      ],
      "execution_count": null,
      "outputs": []
    },
    {
      "cell_type": "markdown",
      "metadata": {
        "id": "_Vlsh1iq1lV1"
      },
      "source": [
        "# 予測モデル作成　1回目"
      ]
    },
    {
      "cell_type": "markdown",
      "metadata": {
        "id": "jN3aSqnq_sar"
      },
      "source": [
        "◎ データ分析で使用するモジュールをインポートします"
      ]
    },
    {
      "cell_type": "code",
      "metadata": {
        "id": "vx_ya4QLbB-V"
      },
      "source": [
        "import pandas as pd\n",
        "import numpy as np\n",
        "from matplotlib import pyplot as plt\n",
        "%matplotlib inline\n",
        "from sklearn.linear_model import LinearRegression as LR"
      ],
      "execution_count": null,
      "outputs": []
    },
    {
      "cell_type": "markdown",
      "metadata": {
        "id": "OdA8rco7_0IC"
      },
      "source": [
        "◎ csvファイルを学習用データ（train）、テストデータ（test）、投稿用データ（sample）に読み込みます\n",
        "\n",
        "\n",
        "\n",
        "\n"
      ]
    },
    {
      "cell_type": "code",
      "metadata": {
        "id": "74pU7SkIbqC_"
      },
      "source": [
        "train = pd.read_csv('train.csv')\n",
        "test = pd.read_csv('test.csv')\n",
        "sample = pd.read_csv('sample.csv', header=None)"
      ],
      "execution_count": null,
      "outputs": []
    },
    {
      "cell_type": "code",
      "metadata": {
        "id": "3Fz2KWIH_RdV"
      },
      "source": [
        "train.head()"
      ],
      "execution_count": null,
      "outputs": []
    },
    {
      "cell_type": "code",
      "metadata": {
        "id": "kvf8r2ucBTFM"
      },
      "source": [
        "test.head()"
      ],
      "execution_count": null,
      "outputs": []
    },
    {
      "cell_type": "code",
      "metadata": {
        "id": "1v3tIlqeMDaC"
      },
      "source": [
        "sample.head()"
      ],
      "execution_count": null,
      "outputs": []
    },
    {
      "cell_type": "markdown",
      "metadata": {
        "id": "vAu28rnTMdBO"
      },
      "source": [
        "◎ 学習用データ（train）の売上個数「y」を折れ線グラフで表示して傾向を確認します"
      ]
    },
    {
      "cell_type": "code",
      "metadata": {
        "id": "_EBPsMp4MIRY"
      },
      "source": [
        "train['y'].plot(figsize = (12, 4))"
      ],
      "execution_count": null,
      "outputs": []
    },
    {
      "cell_type": "markdown",
      "metadata": {
        "id": "FO3uo9MdOBl3"
      },
      "source": [
        "◎ 日付を説明変数にするために、「year」、「month」、「day」のカラムを学習用データ（train）とテストデータ（test）に追加します"
      ]
    },
    {
      "cell_type": "code",
      "metadata": {
        "id": "x2zs03ZmMSEX"
      },
      "source": [
        "train['year'] = train['datetime'].apply(lambda x : x.split('-')[0])\n",
        "train['month'] = train['datetime'].apply(lambda x : x.split('-')[1])\n",
        "train['day'] = train['datetime'].apply(lambda x : x.split('-')[2])"
      ],
      "execution_count": null,
      "outputs": []
    },
    {
      "cell_type": "code",
      "metadata": {
        "id": "GVZKYxZRgH46"
      },
      "source": [
        "test['year'] = test['datetime'].apply(lambda x : x.split('-')[0])\n",
        "test['month'] = test['datetime'].apply(lambda x : x.split('-')[1])\n",
        "test['day'] = test['datetime'].apply(lambda x : x.split('-')[2])"
      ],
      "execution_count": null,
      "outputs": []
    },
    {
      "cell_type": "code",
      "metadata": {
        "id": "P-63woiKSeOZ"
      },
      "source": [
        "train.head()"
      ],
      "execution_count": null,
      "outputs": []
    },
    {
      "cell_type": "code",
      "metadata": {
        "id": "khXliZX8s0Pe"
      },
      "source": [
        "test.head()"
      ],
      "execution_count": null,
      "outputs": []
    },
    {
      "cell_type": "markdown",
      "metadata": {
        "id": "jeC4mhkRhv9C"
      },
      "source": [
        "◎ 追加したカラムのデータ型を確認します"
      ]
    },
    {
      "cell_type": "code",
      "metadata": {
        "id": "K4SZSCuJh8Fl"
      },
      "source": [
        "train.info()"
      ],
      "execution_count": null,
      "outputs": []
    },
    {
      "cell_type": "markdown",
      "metadata": {
        "id": "MX2253YsiEmz"
      },
      "source": [
        "◎「year」、「month」、「day」のデータ型をint型に変換します"
      ]
    },
    {
      "cell_type": "code",
      "metadata": {
        "id": "YEHnoBmWOhH9"
      },
      "source": [
        "train['year'] = train['year'].astype(np.int)\n",
        "train['month'] = train['month'].astype(np.int)\n",
        "train['day'] = train['day'].astype(np.int)"
      ],
      "execution_count": null,
      "outputs": []
    },
    {
      "cell_type": "code",
      "metadata": {
        "id": "AsftBb3iUCTw"
      },
      "source": [
        "test['year'] = test['year'].astype(np.int)\n",
        "test['month'] = test['month'].astype(np.int)\n",
        "test['day'] = test['day'].astype(np.int)"
      ],
      "execution_count": null,
      "outputs": []
    },
    {
      "cell_type": "code",
      "metadata": {
        "id": "XFa0vAeYiO5O"
      },
      "source": [
        "train.info()"
      ],
      "execution_count": null,
      "outputs": []
    },
    {
      "cell_type": "code",
      "metadata": {
        "id": "8uPWk6seP9LZ"
      },
      "source": [
        "test.info()"
      ],
      "execution_count": null,
      "outputs": []
    },
    {
      "cell_type": "markdown",
      "metadata": {
        "id": "WKV-STwDdP45"
      },
      "source": [
        "◎「year」、「month」、「day」を説明変数にセットします"
      ]
    },
    {
      "cell_type": "code",
      "metadata": {
        "id": "jX57wsOUQB5X"
      },
      "source": [
        "trainX = train[['year', 'month', 'day']]\n",
        "testX = test[['year', 'month', 'day']]"
      ],
      "execution_count": null,
      "outputs": []
    },
    {
      "cell_type": "code",
      "metadata": {
        "id": "SjB4JgbzdqCX"
      },
      "source": [
        "trainX.head()"
      ],
      "execution_count": null,
      "outputs": []
    },
    {
      "cell_type": "code",
      "metadata": {
        "id": "lAN2oyjUXTg6"
      },
      "source": [
        "testX.head()"
      ],
      "execution_count": null,
      "outputs": []
    },
    {
      "cell_type": "markdown",
      "metadata": {
        "id": "FoOZMqdNtbq3"
      },
      "source": [
        "◎ 予測対象「y」を目的変数に代入します"
      ]
    },
    {
      "cell_type": "code",
      "metadata": {
        "id": "6QyfvUF1tauJ"
      },
      "source": [
        "y = train['y']"
      ],
      "execution_count": null,
      "outputs": []
    },
    {
      "cell_type": "markdown",
      "metadata": {
        "id": "8MDE-bZttA7-"
      },
      "source": [
        "◎ 回帰分析による予測モデルを作成します"
      ]
    },
    {
      "cell_type": "code",
      "metadata": {
        "id": "WSx1d2n1eKw4"
      },
      "source": [
        "model1 = LR()"
      ],
      "execution_count": null,
      "outputs": []
    },
    {
      "cell_type": "code",
      "metadata": {
        "id": "f9nb4y3Afqc6"
      },
      "source": [
        "model1.fit(trainX, y)"
      ],
      "execution_count": null,
      "outputs": []
    },
    {
      "cell_type": "markdown",
      "metadata": {
        "id": "4pvrOhStuHE9"
      },
      "source": [
        "◎ 作成した予測モデルの傾きと切片を確認します。"
      ]
    },
    {
      "cell_type": "code",
      "metadata": {
        "id": "pFWMnNDnQIWG"
      },
      "source": [
        "model1.coef_"
      ],
      "execution_count": null,
      "outputs": []
    },
    {
      "cell_type": "code",
      "metadata": {
        "id": "-VklB4vFQZ8D"
      },
      "source": [
        "model1.intercept_"
      ],
      "execution_count": null,
      "outputs": []
    },
    {
      "cell_type": "markdown",
      "metadata": {
        "id": "avJ3PF-vukwY"
      },
      "source": [
        "◎ 予測モデルを使用してテストデータ（test）の売上個数を予測します"
      ]
    },
    {
      "cell_type": "code",
      "metadata": {
        "id": "3sprSfPWf16u"
      },
      "source": [
        "pred = model1.predict(testX)"
      ],
      "execution_count": null,
      "outputs": []
    },
    {
      "cell_type": "code",
      "metadata": {
        "id": "a2mUCU8VgEVJ"
      },
      "source": [
        "pred"
      ],
      "execution_count": null,
      "outputs": []
    },
    {
      "cell_type": "markdown",
      "metadata": {
        "id": "kmHLf4FTu-Rb"
      },
      "source": [
        "◎ 予測結果を投稿用データ（sample）にセットします"
      ]
    },
    {
      "cell_type": "code",
      "metadata": {
        "id": "JIJ4V3Y7hOBj"
      },
      "source": [
        "sample.head()"
      ],
      "execution_count": null,
      "outputs": []
    },
    {
      "cell_type": "code",
      "metadata": {
        "id": "tTmULf8QixU0"
      },
      "source": [
        "sample[1] = pred"
      ],
      "execution_count": null,
      "outputs": []
    },
    {
      "cell_type": "code",
      "metadata": {
        "id": "RnX4CDNCi7er"
      },
      "source": [
        "sample.head()"
      ],
      "execution_count": null,
      "outputs": []
    },
    {
      "cell_type": "markdown",
      "metadata": {
        "id": "Ooy9_F34vbSd"
      },
      "source": [
        "◎ 投稿用データ（sample）をcsvファイルに出力します\n",
        "\n"
      ]
    },
    {
      "cell_type": "code",
      "metadata": {
        "id": "GiInnbD7i_BY"
      },
      "source": [
        "sample.to_csv('submit_0616_1.csv', index=None, header=None)"
      ],
      "execution_count": null,
      "outputs": []
    },
    {
      "cell_type": "markdown",
      "metadata": {
        "id": "yYtCtW_b1OYd"
      },
      "source": [
        "# 予測モデル作成　2回目　※より精度の高いモデルを作成"
      ]
    },
    {
      "cell_type": "markdown",
      "metadata": {
        "id": "K4i--_mTwaEB"
      },
      "source": [
        "◎ 学習用データ（train）を用いて、売上実績と売上予想を比較してみます"
      ]
    },
    {
      "cell_type": "code",
      "metadata": {
        "id": "Fp7wOjZljlIn"
      },
      "source": [
        "pred = model1.predict(trainX)"
      ],
      "execution_count": null,
      "outputs": []
    },
    {
      "cell_type": "code",
      "metadata": {
        "id": "0vNITFe6sHoy"
      },
      "source": [
        "pred"
      ],
      "execution_count": null,
      "outputs": []
    },
    {
      "cell_type": "markdown",
      "metadata": {
        "id": "ZqhfUAGCk5Kb"
      },
      "source": [
        "◎ 学習用データ（train）に予測値のカラム「pred」を追加します"
      ]
    },
    {
      "cell_type": "code",
      "metadata": {
        "id": "ckbpwkm7sLeJ"
      },
      "source": [
        "train['pred']=pred"
      ],
      "execution_count": null,
      "outputs": []
    },
    {
      "cell_type": "code",
      "metadata": {
        "id": "lMZZMRkVsY9j"
      },
      "source": [
        "train.head()"
      ],
      "execution_count": null,
      "outputs": []
    },
    {
      "cell_type": "markdown",
      "metadata": {
        "id": "I_7jb_4DxWpu"
      },
      "source": [
        "◎ 予測結果をRMSEで評価してみます"
      ]
    },
    {
      "cell_type": "code",
      "metadata": {
        "id": "heTX3YIvsdbL"
      },
      "source": [
        "from sklearn.metrics import mean_squared_error"
      ],
      "execution_count": null,
      "outputs": []
    },
    {
      "cell_type": "code",
      "metadata": {
        "id": "95nQj8gTs6pt"
      },
      "source": [
        "np.sqrt(mean_squared_error(train['y'], train['pred']))"
      ],
      "execution_count": null,
      "outputs": []
    },
    {
      "cell_type": "markdown",
      "metadata": {
        "id": "8jQKfDxuqBej"
      },
      "source": [
        "◎ 売上個数「y」と売上予測「pred」をグラフにしてみます"
      ]
    },
    {
      "cell_type": "code",
      "metadata": {
        "id": "iofpLwUUtNIi"
      },
      "source": [
        "train['y'].plot(figsize=(12,5))\n",
        "train['pred'].plot(figsize=(12,5))"
      ],
      "execution_count": null,
      "outputs": []
    },
    {
      "cell_type": "markdown",
      "metadata": {
        "id": "wHMObXpRl4DW"
      },
      "source": [
        "◎ 学習用データ（train）に売上個数「y」と売上予測「pred」の差異のカラム「res」を追加します"
      ]
    },
    {
      "cell_type": "code",
      "metadata": {
        "id": "wsdGsYOptrPI"
      },
      "source": [
        "train['res'] = train['y'] - train['pred']"
      ],
      "execution_count": null,
      "outputs": []
    },
    {
      "cell_type": "code",
      "metadata": {
        "id": "fSUdOX-WtxbB"
      },
      "source": [
        "train.sort_values(by='res')"
      ],
      "execution_count": null,
      "outputs": []
    },
    {
      "cell_type": "markdown",
      "metadata": {
        "id": "mTe3W71amjDO"
      },
      "source": [
        "◎ 「お楽しみメニュー」かどうかを説明変数にするため、\n",
        "学習用データ（train）とテストデータ（test）にカラム「fun」を追加します"
      ]
    },
    {
      "cell_type": "code",
      "metadata": {
        "id": "kUeM_n9h9f1m"
      },
      "source": [
        "def func(x):\n",
        "  if x == 'お楽しみメニュー':\n",
        "    return 1\n",
        "  else:\n",
        "    return 0"
      ],
      "execution_count": null,
      "outputs": []
    },
    {
      "cell_type": "code",
      "metadata": {
        "id": "jj4kbzG7nsHy"
      },
      "source": [
        "train['fun'] = train['remarks'].apply(lambda x :func(x))\n",
        "test['fun'] = test['remarks'].apply(lambda x :func(x))"
      ],
      "execution_count": null,
      "outputs": []
    },
    {
      "cell_type": "code",
      "metadata": {
        "id": "7q3W78qPpqWa"
      },
      "source": [
        "train.head()"
      ],
      "execution_count": null,
      "outputs": []
    },
    {
      "cell_type": "code",
      "metadata": {
        "id": "fp_6dv7jpw-6"
      },
      "source": [
        "test.head()"
      ],
      "execution_count": null,
      "outputs": []
    },
    {
      "cell_type": "markdown",
      "metadata": {
        "id": "44eV8OLOp09G"
      },
      "source": [
        "◎ 説明変数を再設定します"
      ]
    },
    {
      "cell_type": "code",
      "metadata": {
        "id": "Mr77bCGRLVS5"
      },
      "source": [
        "trainX = train[['year', 'month', 'day', 'fun']]\n",
        "testX = test[['year', 'month', 'day', 'fun']]"
      ],
      "execution_count": null,
      "outputs": []
    },
    {
      "cell_type": "code",
      "metadata": {
        "id": "iUQGMYOTqBfo"
      },
      "source": [
        "trainX.head()"
      ],
      "execution_count": null,
      "outputs": []
    },
    {
      "cell_type": "code",
      "metadata": {
        "id": "dXU0wzhLLxNZ"
      },
      "source": [
        "testX.head()"
      ],
      "execution_count": null,
      "outputs": []
    },
    {
      "cell_type": "markdown",
      "metadata": {
        "id": "NRFWfL26oDDQ"
      },
      "source": [
        "◎ 新しい説明変数で予測モデルを再作成します"
      ]
    },
    {
      "cell_type": "code",
      "metadata": {
        "id": "8DVp2QlqL045"
      },
      "source": [
        "model2 = LR()"
      ],
      "execution_count": null,
      "outputs": []
    },
    {
      "cell_type": "code",
      "metadata": {
        "id": "vaU4NoP5MPWZ"
      },
      "source": [
        "model2.fit(trainX, y)"
      ],
      "execution_count": null,
      "outputs": []
    },
    {
      "cell_type": "code",
      "metadata": {
        "id": "Myh6vS2LMZF4"
      },
      "source": [
        "model2.coef_"
      ],
      "execution_count": null,
      "outputs": []
    },
    {
      "cell_type": "code",
      "metadata": {
        "id": "YrlHFIo7McYo"
      },
      "source": [
        "model2.intercept_"
      ],
      "execution_count": null,
      "outputs": []
    },
    {
      "cell_type": "markdown",
      "metadata": {
        "id": "5JCIMlY6owuS"
      },
      "source": [
        "◎ 学習用データ（train）に新しい予測値のカラム「pred2」を追加して、RMSEで再評価してみます"
      ]
    },
    {
      "cell_type": "code",
      "metadata": {
        "id": "1j5rBgDNMhip"
      },
      "source": [
        "pred2 = model2.predict(trainX)"
      ],
      "execution_count": null,
      "outputs": []
    },
    {
      "cell_type": "code",
      "metadata": {
        "id": "s-5OBTBQM82h"
      },
      "source": [
        "pred2"
      ],
      "execution_count": null,
      "outputs": []
    },
    {
      "cell_type": "code",
      "metadata": {
        "id": "ixhtC24Nz5jF"
      },
      "source": [
        "train['pred2'] = pred2"
      ],
      "execution_count": null,
      "outputs": []
    },
    {
      "cell_type": "code",
      "metadata": {
        "id": "GPopVDRQ0FHk"
      },
      "source": [
        "np.sqrt(mean_squared_error(train['y'], train['pred2']))"
      ],
      "execution_count": null,
      "outputs": []
    },
    {
      "cell_type": "markdown",
      "metadata": {
        "id": "FOjy5y4tqpHW"
      },
      "source": [
        "◎ テストデータ（test）の売り上げを再予測して、投稿用のcsvファイルに出力します"
      ]
    },
    {
      "cell_type": "code",
      "metadata": {
        "id": "KZ1LySsJNvIy"
      },
      "source": [
        "pred2 = model2.predict(testX)"
      ],
      "execution_count": null,
      "outputs": []
    },
    {
      "cell_type": "code",
      "metadata": {
        "id": "5o-mo0Rcetui"
      },
      "source": [
        "sample[1] = pred2"
      ],
      "execution_count": null,
      "outputs": []
    },
    {
      "cell_type": "code",
      "metadata": {
        "id": "kdY8a7csN1CY"
      },
      "source": [
        "sample.to_csv('submit_0616_2.csv', index=None, header=None)"
      ],
      "execution_count": null,
      "outputs": []
    },
    {
      "cell_type": "code",
      "metadata": {
        "id": "tMENHmMSRlCC"
      },
      "source": [
        ""
      ],
      "execution_count": null,
      "outputs": []
    }
  ]
}